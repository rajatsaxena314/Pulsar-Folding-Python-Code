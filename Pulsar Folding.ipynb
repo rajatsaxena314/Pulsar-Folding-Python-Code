{
 "cells": [
  {
   "cell_type": "markdown",
   "id": "6ebbdbcd-4794-4793-b1bf-55f22350d977",
   "metadata": {},
   "source": [
    "# Pulsar Folding Code"
   ]
  },
  {
   "cell_type": "raw",
   "id": "1126351c-5adb-4dc7-8605-fe67be715492",
   "metadata": {},
   "source": [
    "In this code Pandas has been used for the analysis.\n",
    "The data was imported directly from the text file."
   ]
  },
  {
   "cell_type": "code",
   "execution_count": 1,
   "id": "f2070bb6-adb4-464f-9dd7-fb984fb92264",
   "metadata": {},
   "outputs": [
    {
     "name": "stdout",
     "output_type": "stream",
     "text": [
      "      Time Sample    Power\n",
      "0       13.119214  1995.83\n",
      "1       13.119226  2004.89\n",
      "2       13.119237  2010.47\n",
      "3       13.119249  2005.98\n",
      "4       13.119261  2004.09\n",
      "...           ...      ...\n",
      "7736    13.209345  1986.18\n",
      "7737    13.209356  1985.32\n",
      "7738    13.209369  1979.06\n",
      "7739    13.209380  1977.38\n",
      "7740    13.209392  1984.09\n",
      "\n",
      "[7741 rows x 2 columns]\n"
     ]
    }
   ],
   "source": [
    "#The data is being imported in this step.\n",
    "import pandas as pd\n",
    "import numpy as np\n",
    "column_names = [\"Time Sample\" , \"Power\"]\n",
    "d1 = pd.read_csv('B1133_ti.out', sep=' ', header = None, names = column_names, dtype=np.float64)\n",
    "print(d1)"
   ]
  },
  {
   "cell_type": "code",
   "execution_count": 2,
   "id": "438e0dbe-4aa8-4a64-82dd-01a100437cda",
   "metadata": {},
   "outputs": [],
   "source": [
    "#Calculating the Time series.\n",
    "ts = []\n",
    "for i in range (1, 7742):\n",
    "    ts.append(i)"
   ]
  },
  {
   "cell_type": "code",
   "execution_count": 4,
   "id": "f43541e6-088e-4cfe-8987-8156cbc13514",
   "metadata": {},
   "outputs": [
    {
     "name": "stdout",
     "output_type": "stream",
     "text": [
      "      Time Sample    Power  Time Series  Number of Rotations\n",
      "0       13.119214  1995.83            1             0.035309\n",
      "1       13.119226  2004.89            2             0.070618\n",
      "2       13.119237  2010.47            3             0.105927\n",
      "3       13.119249  2005.98            4             0.141236\n",
      "4       13.119261  2004.09            5             0.176546\n",
      "...           ...      ...          ...                  ...\n",
      "7736    13.209345  1986.18         7737           273.186664\n",
      "7737    13.209356  1985.32         7738           273.221973\n",
      "7738    13.209369  1979.06         7739           273.257282\n",
      "7739    13.209380  1977.38         7740           273.292591\n",
      "7740    13.209392  1984.09         7741           273.327900\n",
      "\n",
      "[7741 rows x 4 columns]\n"
     ]
    }
   ],
   "source": [
    "#Calculating the number of rotations of Pulsar.\n",
    "p = 1187.88119448 # in ms\n",
    "t = 41.94304  # in ms\n",
    "ratio = t/p \n",
    "rotation = d1.apply (lambda row : row [2]*ratio, axis = 1)\n",
    "d1['Number of Rotations'] = rotation\n",
    "print (d1)"
   ]
  },
  {
   "cell_type": "markdown",
   "id": "3c2412bd-96e2-428a-a20f-f18325e385c9",
   "metadata": {},
   "source": [
    "Pulsar Phase Calculation Formula:\n",
    "$$\n",
    "\\frac{\\text{Time Sample Number} \\times t}{p} - \\text{INT} \\left[\\frac{\\text{Time Sample Number} \\times t}{p} \\right] = \\text{Pulsar Rotational Phase}\n",
    "$$"
   ]
  },
  {
   "cell_type": "code",
   "execution_count": 3,
   "id": "d7aa387f-ee8a-4ec6-9f18-75a51aaa8936",
   "metadata": {},
   "outputs": [
    {
     "name": "stdout",
     "output_type": "stream",
     "text": [
      "      Time Sample    Power  Time Series\n",
      "0       13.119214  1995.83            1\n",
      "1       13.119226  2004.89            2\n",
      "2       13.119237  2010.47            3\n",
      "3       13.119249  2005.98            4\n",
      "4       13.119261  2004.09            5\n",
      "...           ...      ...          ...\n",
      "7736    13.209345  1986.18         7737\n",
      "7737    13.209356  1985.32         7738\n",
      "7738    13.209369  1979.06         7739\n",
      "7739    13.209380  1977.38         7740\n",
      "7740    13.209392  1984.09         7741\n",
      "\n",
      "[7741 rows x 3 columns]\n"
     ]
    }
   ],
   "source": [
    "#Adding the time series to the data.\n",
    "d1[\"Time Series\"] = ts\n",
    "print (d1)"
   ]
  },
  {
   "cell_type": "code",
   "execution_count": 5,
   "id": "780c0dc5-1593-40c7-9a38-d2e3d067d472",
   "metadata": {},
   "outputs": [
    {
     "name": "stdout",
     "output_type": "stream",
     "text": [
      "      Time Sample    Power  Time Series  Number of Rotations     Phase\n",
      "0       13.119214  1995.83            1             0.035309  0.035309\n",
      "1       13.119226  2004.89            2             0.070618  0.070618\n",
      "2       13.119237  2010.47            3             0.105927  0.105927\n",
      "3       13.119249  2005.98            4             0.141236  0.141236\n",
      "4       13.119261  2004.09            5             0.176546  0.176546\n",
      "...           ...      ...          ...                  ...       ...\n",
      "7736    13.209345  1986.18         7737           273.186664  0.186664\n",
      "7737    13.209356  1985.32         7738           273.221973  0.221973\n",
      "7738    13.209369  1979.06         7739           273.257282  0.257282\n",
      "7739    13.209380  1977.38         7740           273.292591  0.292591\n",
      "7740    13.209392  1984.09         7741           273.327900  0.327900\n",
      "\n",
      "[7741 rows x 5 columns]\n"
     ]
    }
   ],
   "source": [
    "#Calculating the Pulsar Phase.\n",
    "phase = d1.apply (lambda row : (row[3] - int(row[3])), axis = 1 )\n",
    "d1['Phase'] = phase\n",
    "d1['Phase'] = d1['Phase']\n",
    "\n",
    "print (d1)"
   ]
  },
  {
   "cell_type": "code",
   "execution_count": 6,
   "id": "e64a18f0-16c0-44d3-b3ac-e5db92aa10b3",
   "metadata": {},
   "outputs": [
    {
     "name": "stdout",
     "output_type": "stream",
     "text": [
      "         Phase    Power\n",
      "0     0.035309  1995.83\n",
      "1     0.070618  2004.89\n",
      "2     0.105927  2010.47\n",
      "3     0.141236  2005.98\n",
      "4     0.176546  2004.09\n",
      "...        ...      ...\n",
      "7736  0.186664  1986.18\n",
      "7737  0.221973  1985.32\n",
      "7738  0.257282  1979.06\n",
      "7739  0.292591  1977.38\n",
      "7740  0.327900  1984.09\n",
      "\n",
      "[7741 rows x 2 columns]\n"
     ]
    }
   ],
   "source": [
    "#Selecting just the Phase and Power Columns\n",
    "powerandphase = d1.iloc[:,[4,1]]\n",
    "print (powerandphase)"
   ]
  },
  {
   "cell_type": "code",
   "execution_count": 7,
   "id": "0dccc07f-22fd-49c2-8010-b597a249f6aa",
   "metadata": {},
   "outputs": [
    {
     "name": "stdout",
     "output_type": "stream",
     "text": [
      "[0.0, 0.03571428571428571, 0.07142857142857142, 0.10714285714285714, 0.14285714285714285, 0.17857142857142858, 0.21428571428571427, 0.25, 0.2857142857142857, 0.32142857142857145, 0.35714285714285715, 0.39285714285714285, 0.42857142857142855, 0.4642857142857143, 0.5, 0.5357142857142857, 0.5714285714285714, 0.6071428571428571, 0.6428571428571429, 0.6785714285714286, 0.7142857142857143, 0.75, 0.7857142857142857, 0.8214285714285714, 0.8571428571428571, 0.8928571428571429, 0.9285714285714286, 0.9642857142857143]\n"
     ]
    }
   ],
   "source": [
    "#Finding the actual phases\n",
    "phs = []\n",
    "for i in range (0,28):\n",
    "    phs.append(i/28)\n",
    "print(phs)"
   ]
  },
  {
   "cell_type": "code",
   "execution_count": 8,
   "id": "89d13e40-8a94-4b4f-b77d-a34d90ef7561",
   "metadata": {},
   "outputs": [],
   "source": [
    "#Setting the range for each bin.\n",
    "bin1 = powerandphase[(powerandphase.Phase > 0)&(powerandphase.Phase < 0.03571428571428571)]\n",
    "bin2 = powerandphase[(powerandphase.Phase > 0.03571428571428571) & (powerandphase.Phase < 0.07142857142857142)]\n",
    "bin3 = powerandphase[(powerandphase.Phase > 0.07142857142857142) & (powerandphase.Phase < 0.10714285714285714)]\n",
    "bin4 = powerandphase[(powerandphase.Phase > 0.10714285714285714) & (powerandphase.Phase < 0.14285714285714285)]\n",
    "bin5 = powerandphase[(powerandphase.Phase > 0.14285714285714285) & (powerandphase.Phase < 0.17857142857142858)]\n",
    "bin6 = powerandphase[(powerandphase.Phase > 0.17857142857142858) & (powerandphase.Phase < 0.21428571428571427)]\n",
    "bin7 = powerandphase[(powerandphase.Phase > 0.21428571428571427) & (powerandphase.Phase < 0.25)]\n",
    "bin8 = powerandphase[(powerandphase.Phase > 0.25) & (powerandphase.Phase < 0.2857142857142857)]\n",
    "bin9 = powerandphase[(powerandphase.Phase > 0.2857142857142857) & (powerandphase.Phase < 0.32142857142857145)]\n",
    "bin10 = powerandphase[(powerandphase.Phase > 0.32142857142857145) & (powerandphase.Phase < 0.35714285714285715)] \n",
    "bin11 = powerandphase[(powerandphase.Phase > 0.35714285714285715) & (powerandphase.Phase < 0.39285714285714285)]\n",
    "bin12 = powerandphase[(powerandphase.Phase > 0.39285714285714285) & (powerandphase.Phase < 0.42857142857142855)]\n",
    "bin13 = powerandphase[(powerandphase.Phase > 0.42857142857142855) & (powerandphase.Phase < 0.4642857142857143)]\n",
    "bin14 = powerandphase[(powerandphase.Phase > 0.4642857142857143) & (powerandphase.Phase < 0.5)]\n",
    "bin15 = powerandphase[(powerandphase.Phase > 0.5) & (powerandphase.Phase < 0.5357142857142857)]\n",
    "bin16 = powerandphase[(powerandphase.Phase > 0.5357142857142857) & (powerandphase.Phase < 0.5714285714285714)]\n",
    "bin17 = powerandphase[(powerandphase.Phase > 0.5714285714285714) & (powerandphase.Phase < 0.6071428571428571)]\n",
    "bin18 = powerandphase[(powerandphase.Phase > 0.6071428571428571) & (powerandphase.Phase < 0.6428571428571429)]\n",
    "bin19 = powerandphase[(powerandphase.Phase > 0.6428571428571429) & (powerandphase.Phase < 0.6785714285714286)] \n",
    "bin20 = powerandphase[(powerandphase.Phase > 0.6785714285714286) & (powerandphase.Phase < 0.7142857142857143)]\n",
    "bin21 = powerandphase[(powerandphase.Phase > 0.7142857142857143) & (powerandphase.Phase < 0.75)]\n",
    "bin22 = powerandphase[(powerandphase.Phase > 0.75) & (powerandphase.Phase < 0.7857142857142857)]\n",
    "bin23 = powerandphase[(powerandphase.Phase > 0.7857142857142857) & (powerandphase.Phase < 0.8214285714285714)]\n",
    "bin24 = powerandphase[(powerandphase.Phase > 0.82142857142857147) & (powerandphase.Phase < 0.8571428571428571)]\n",
    "bin25 = powerandphase[(powerandphase.Phase > 0.8571428571428571) & (powerandphase.Phase < 0.8928571428571429)]\n",
    "bin26 = powerandphase[(powerandphase.Phase > 0.8928571428571429) & (powerandphase.Phase < 0.9285714285714286)]\n",
    "bin27 = powerandphase[(powerandphase.Phase > 0.9285714285714286) & (powerandphase.Phase < 0.9642857142857143)]\n",
    "bin28 = powerandphase[(powerandphase.Phase > 0.9642857142857143) & (powerandphase.Phase < 1 )]"
   ]
  },
  {
   "cell_type": "code",
   "execution_count": 9,
   "id": "86236cd3-b6ec-4cda-8a17-60f45e50f1e9",
   "metadata": {},
   "outputs": [
    {
     "name": "stdout",
     "output_type": "stream",
     "text": [
      "       Phase        Power\n",
      "0   0.000000  1987.307942\n",
      "1   0.035714  1991.706859\n",
      "2   0.071429  2009.997148\n",
      "3   0.107143  1990.713069\n",
      "4   0.142857  1989.846931\n",
      "5   0.178571  1991.793538\n",
      "6   0.214286  1989.603849\n",
      "7   0.250000  1988.994332\n",
      "8   0.285714  1990.175632\n",
      "9   0.321429  1989.123357\n",
      "10  0.357143  1989.590072\n",
      "11  0.392857  1988.609420\n",
      "12  0.428571  1988.701336\n",
      "13  0.464286  1988.467428\n",
      "14  0.500000  1988.913007\n",
      "15  0.535714  1989.354746\n",
      "16  0.571429  1989.090543\n",
      "17  0.607143  1989.244601\n",
      "18  0.642857  1989.428989\n",
      "19  0.678571  1988.191848\n",
      "20  0.714286  1987.958406\n",
      "21  0.750000  1987.253007\n",
      "22  0.785714  1987.124420\n",
      "23  0.821429  1987.130469\n",
      "24  0.857143  1987.855273\n",
      "25  0.892857  1987.548768\n",
      "26  0.928571  1985.600580\n",
      "27  0.964286  1986.882355\n"
     ]
    }
   ],
   "source": [
    "#Creating a table with Average power and phase as columns\n",
    "d2 = {'Phase' : phs,'Power' : [\n",
    "bin1[\"Power\"].mean() ,\n",
    "bin2[\"Power\"].mean(),\n",
    "bin3[\"Power\"].mean(),\n",
    "bin4[\"Power\"].mean(),\n",
    "bin5[\"Power\"].mean(),\n",
    "bin6[\"Power\"].mean(),\n",
    "bin7[\"Power\"].mean(),\n",
    "bin8[\"Power\"].mean(),\n",
    "bin9[\"Power\"].mean(),\n",
    "bin10[\"Power\"].mean(),\n",
    "bin11[\"Power\"].mean(),\n",
    "bin12[\"Power\"].mean(),\n",
    "bin13[\"Power\"].mean(),\n",
    "bin14[\"Power\"].mean(),\n",
    "bin15[\"Power\"].mean(),\n",
    "bin16[\"Power\"].mean(),\n",
    "bin17[\"Power\"].mean(),\n",
    "bin18[\"Power\"].mean(),\n",
    "bin19[\"Power\"].mean(),\n",
    "bin20[\"Power\"].mean(),\n",
    "bin21[\"Power\"].mean(),\n",
    "bin22[\"Power\"].mean(),\n",
    "bin23[\"Power\"].mean(),\n",
    "bin24[\"Power\"].mean(),\n",
    "bin25[\"Power\"].mean(),\n",
    "bin26[\"Power\"].mean(),\n",
    "bin27[\"Power\"].mean(),\n",
    "bin28[\"Power\"].mean(),]}\n",
    "\n",
    "final = pd.DataFrame (d2)\n",
    "print (final)"
   ]
  },
  {
   "cell_type": "code",
   "execution_count": 10,
   "id": "d8a9418b-baa9-4ba1-8ec0-8425e9ef5cc2",
   "metadata": {},
   "outputs": [
    {
     "data": {
      "text/plain": [
       "[<matplotlib.lines.Line2D at 0x28684089b50>]"
      ]
     },
     "execution_count": 10,
     "metadata": {},
     "output_type": "execute_result"
    },
    {
     "data": {
      "image/png": "[encoded data removed]",
      "text/plain": [
       "<Figure size 640x480 with 1 Axes>"
      ]
     },
     "metadata": {},
     "output_type": "display_data"
    }
   ],
   "source": [
    "#Plotting the data\n",
    "import matplotlib.pyplot as plt\n",
    "plt.xlabel(\"Pulsar Phase\")\n",
    "plt.ylabel(\"Power\")\n",
    "plt.plot(final['Phase'] , final['Power'] , marker = '*')"
   ]
  }
 ],
 "metadata": {
  "kernelspec": {
   "display_name": "Python 3 (ipykernel)",
   "language": "python",
   "name": "python3"
  },
  "language_info": {
   "codemirror_mode": {
    "name": "ipython",
    "version": 3
   },
   "file_extension": ".py",
   "mimetype": "text/x-python",
   "name": "python",
   "nbconvert_exporter": "python",
   "pygments_lexer": "ipython3",
   "version": "3.11.4"
  }
 },
 "nbformat": 4,
 "nbformat_minor": 5
}
